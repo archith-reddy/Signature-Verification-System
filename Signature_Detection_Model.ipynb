{
  "nbformat": 4,
  "nbformat_minor": 0,
  "metadata": {
    "colab": {
      "name": "Signature Detection Model",
      "provenance": [],
      "collapsed_sections": []
    },
    "kernelspec": {
      "name": "python3",
      "display_name": "Python 3"
    },
    "accelerator": "GPU"
  },
  "cells": [
    {
      "cell_type": "markdown",
      "metadata": {
        "id": "XtUecyrhS1vL",
        "colab_type": "text"
      },
      "source": [
        "Importing libraries"
      ]
    },
    {
      "cell_type": "code",
      "metadata": {
        "id": "W9ubi2U2P9PZ",
        "colab_type": "code",
        "colab": {}
      },
      "source": [
        "import os\n",
        "import zipfile\n",
        "import random\n",
        "import tensorflow as tf\n",
        "from tensorflow.keras.optimizers import RMSprop\n",
        "from tensorflow.keras.preprocessing.image import ImageDataGenerator\n",
        "from shutil import copyfile"
      ],
      "execution_count": 0,
      "outputs": []
    },
    {
      "cell_type": "markdown",
      "metadata": {
        "id": "pKHP-qIqXjjm",
        "colab_type": "text"
      },
      "source": [
        "import your google driver here and authorized it with authorization code"
      ]
    },
    {
      "cell_type": "code",
      "metadata": {
        "id": "dy5qv_UXOCUp",
        "colab_type": "code",
        "outputId": "875a1440-315d-44f4-c548-0f9dea7a9169",
        "colab": {
          "base_uri": "https://localhost:8080/",
          "height": 34
        }
      },
      "source": [
        "from google.colab import drive\n",
        "drive.mount('/content/drive')"
      ],
      "execution_count": 0,
      "outputs": [
        {
          "output_type": "stream",
          "text": [
            "Drive already mounted at /content/drive; to attempt to forcibly remount, call drive.mount(\"/content/drive\", force_remount=True).\n"
          ],
          "name": "stdout"
        }
      ]
    },
    {
      "cell_type": "markdown",
      "metadata": {
        "id": "Nbba25z_SzTM",
        "colab_type": "text"
      },
      "source": [
        "Download and extract dataset, current link is from google drive which can b changed with any other link\n",
        "and if you are working on local notebook then simply skip this"
      ]
    },
    {
      "cell_type": "code",
      "metadata": {
        "id": "xj8d1KgUbWOd",
        "colab_type": "code",
        "colab": {}
      },
      "source": [
        "class myCallBack(tf.keras.callbacks.Callback):\n",
        "    def on_epoch_end(self, epoch, logs={}):\n",
        "        if(logs.get('acc')>0.99):\n",
        "            print('\\nReached 90% accuracy so cancelling training.')\n",
        "            self.model.stop_training = True\n",
        "\n",
        "callbacks = myCallBack()"
      ],
      "execution_count": 0,
      "outputs": []
    },
    {
      "cell_type": "code",
      "metadata": {
        "id": "sBRazad3QHUW",
        "colab_type": "code",
        "colab": {}
      },
      "source": [
        "#enter exact location of dataset here from your drive or whatever you dataset location is\n",
        "\n",
        "src = \"/content/drive/My Drive/AI/dataset.zip\"\n",
        "dst = \"/tmp/dataset.zip\"\n",
        "copyfile(src, dst)\n",
        "\n",
        "local_zip = '/tmp/dataset.zip'\n",
        "zip_ref   = zipfile.ZipFile(local_zip, 'r')\n",
        "zip_ref.extractall('/tmp')\n",
        "zip_ref.close()"
      ],
      "execution_count": 0,
      "outputs": []
    },
    {
      "cell_type": "markdown",
      "metadata": {
        "id": "ambHJnn5Tqtr",
        "colab_type": "text"
      },
      "source": [
        "just confirming that the we've extact dataset properly\n",
        "this step can be skiped"
      ]
    },
    {
      "cell_type": "code",
      "metadata": {
        "id": "oFDsAS2nQIdj",
        "colab_type": "code",
        "outputId": "7c1bd7c1-534c-4fa3-81ef-785895304ec5",
        "colab": {
          "base_uri": "https://localhost:8080/",
          "height": 51
        }
      },
      "source": [
        "print(len(os.listdir('/tmp/dataset/training/')))\n",
        "print(len(os.listdir('/tmp/dataset/testing/')))"
      ],
      "execution_count": 0,
      "outputs": [
        {
          "output_type": "stream",
          "text": [
            "2\n",
            "2\n"
          ],
          "name": "stdout"
        }
      ]
    },
    {
      "cell_type": "code",
      "metadata": {
        "id": "fXgerEhfQNzk",
        "colab_type": "code",
        "colab": {}
      },
      "source": [
        "TRAINING_DIR = \"/tmp/dataset/training/\"\n",
        "TRAINING_GENUINE_DIR = \"/tmp/dataset/training/genuine/\"\n",
        "TRAINING_FORGED_DIR = \"/tmp/dataset/training/forged/\"\n",
        "\n",
        "TESTING_DIR = \"/tmp/dataset/testing/\"\n",
        "TESTING_GENUINE_DIR = \"/tmp/dataset/testing/genuine/\"\n",
        "TESTING_FORGED_DIR = \"/tmp/dataset/testing/forged/\""
      ],
      "execution_count": 0,
      "outputs": []
    },
    {
      "cell_type": "code",
      "metadata": {
        "id": "YZxlVJHpQTN6",
        "colab_type": "code",
        "outputId": "ad6b4de2-0fbe-4c5e-ffce-370eb2df0db9",
        "colab": {
          "base_uri": "https://localhost:8080/",
          "height": 85
        }
      },
      "source": [
        "print(len(os.listdir(TRAINING_GENUINE_DIR)))\n",
        "print(len(os.listdir(TRAINING_FORGED_DIR)))\n",
        "print(len(os.listdir(TESTING_GENUINE_DIR)))\n",
        "print(len(os.listdir(TESTING_FORGED_DIR)))"
      ],
      "execution_count": 0,
      "outputs": [
        {
          "output_type": "stream",
          "text": [
            "2056\n",
            "3675\n",
            "501\n",
            "1500\n"
          ],
          "name": "stdout"
        }
      ]
    },
    {
      "cell_type": "markdown",
      "metadata": {
        "id": "Yihf_qegUsbb",
        "colab_type": "text"
      },
      "source": [
        "Now we create a model because we are using images and we want sequential model for that \n",
        "adding different convolutional neural layers\n",
        "we are using 2 Dimantional Convolutional layers and RELU as activation function and currently our data is no linear so we will change all images into 150x150 resolution in RGB image format\n",
        "after every Convolution layer we add a pooling layer which get the maximum value from previous layer in 2x2 matrix\n",
        "after that we will add a flatten layers\n",
        "now we will define the density of neurons in neural network which in our case is 512\n",
        "and in the end we will add an output layers of 1 neuron with sigmoid as activation function\n",
        "\n",
        "and compile the model with binary_crossentropy as loss function because our output will be either 0 or 1 (binary)"
      ]
    },
    {
      "cell_type": "code",
      "metadata": {
        "id": "pJ5t77fvQV4s",
        "colab_type": "code",
        "outputId": "d8ec938a-8620-407a-f3c7-48eed4b6fdd3",
        "colab": {
          "base_uri": "https://localhost:8080/",
          "height": 612
        }
      },
      "source": [
        "model = tf.keras.models.Sequential([\n",
        "    tf.keras.layers.Conv2D(32, (3, 3), activation='relu', input_shape=(150, 150, 3)),\n",
        "    tf.keras.layers.MaxPooling2D(2, 2),\n",
        "    tf.keras.layers.Conv2D(64, (3, 3), activation='relu'),\n",
        "    tf.keras.layers.MaxPooling2D(2, 2),\n",
        "    tf.keras.layers.Conv2D(128, (3, 3), activation='relu'),\n",
        "    tf.keras.layers.MaxPooling2D(2, 2),\n",
        "    tf.keras.layers.Conv2D(256, (3, 3), activation='relu'),\n",
        "    tf.keras.layers.MaxPooling2D(2, 2),\n",
        "    tf.keras.layers.Conv2D(512, (3, 3), activation='relu'),\n",
        "    tf.keras.layers.MaxPooling2D(2, 2),\n",
        "    tf.keras.layers.Flatten(),\n",
        "    tf.keras.layers.Dense(1024, activation='relu'),\n",
        "    tf.keras.layers.Dense(1, activation='sigmoid')\n",
        "])\n",
        "\n",
        "model.compile(optimizer=RMSprop(lr=0.001), loss='binary_crossentropy', metrics=['acc'])\n",
        "\n",
        "print(model.summary())"
      ],
      "execution_count": 0,
      "outputs": [
        {
          "output_type": "stream",
          "text": [
            "Model: \"sequential_1\"\n",
            "_________________________________________________________________\n",
            "Layer (type)                 Output Shape              Param #   \n",
            "=================================================================\n",
            "conv2d_5 (Conv2D)            (None, 148, 148, 32)      896       \n",
            "_________________________________________________________________\n",
            "max_pooling2d_5 (MaxPooling2 (None, 74, 74, 32)        0         \n",
            "_________________________________________________________________\n",
            "conv2d_6 (Conv2D)            (None, 72, 72, 64)        18496     \n",
            "_________________________________________________________________\n",
            "max_pooling2d_6 (MaxPooling2 (None, 36, 36, 64)        0         \n",
            "_________________________________________________________________\n",
            "conv2d_7 (Conv2D)            (None, 34, 34, 128)       73856     \n",
            "_________________________________________________________________\n",
            "max_pooling2d_7 (MaxPooling2 (None, 17, 17, 128)       0         \n",
            "_________________________________________________________________\n",
            "conv2d_8 (Conv2D)            (None, 15, 15, 256)       295168    \n",
            "_________________________________________________________________\n",
            "max_pooling2d_8 (MaxPooling2 (None, 7, 7, 256)         0         \n",
            "_________________________________________________________________\n",
            "conv2d_9 (Conv2D)            (None, 5, 5, 512)         1180160   \n",
            "_________________________________________________________________\n",
            "max_pooling2d_9 (MaxPooling2 (None, 2, 2, 512)         0         \n",
            "_________________________________________________________________\n",
            "flatten_1 (Flatten)          (None, 2048)              0         \n",
            "_________________________________________________________________\n",
            "dense_2 (Dense)              (None, 1024)              2098176   \n",
            "_________________________________________________________________\n",
            "dense_3 (Dense)              (None, 1)                 1025      \n",
            "=================================================================\n",
            "Total params: 3,667,777\n",
            "Trainable params: 3,667,777\n",
            "Non-trainable params: 0\n",
            "_________________________________________________________________\n",
            "None\n"
          ],
          "name": "stdout"
        }
      ]
    },
    {
      "cell_type": "code",
      "metadata": {
        "id": "iTOTV16vQYE6",
        "colab_type": "code",
        "outputId": "fec9597b-dfe3-476a-92f7-40723e2a1591",
        "colab": {
          "base_uri": "https://localhost:8080/",
          "height": 51
        }
      },
      "source": [
        "TRAINING_DIR = \"/tmp/dataset/training/\"\n",
        "# Experiment with your own parameters here to really try to drive it to 99.9% accuracy or better\n",
        "train_datagen = ImageDataGenerator(rescale=1./255,\n",
        "      rotation_range=40,\n",
        "      width_shift_range=0.2,\n",
        "      height_shift_range=0.2,\n",
        "      shear_range=0.2,\n",
        "      zoom_range=0.2,\n",
        "      horizontal_flip=True,\n",
        "      fill_mode='nearest')\n",
        "train_generator = train_datagen.flow_from_directory(TRAINING_DIR,\n",
        "                                                    batch_size=100,\n",
        "                                                    class_mode='binary',\n",
        "                                                    target_size=(150, 150))\n",
        "\n",
        "VALIDATION_DIR = \"/tmp/dataset/testing/\"\n",
        "# Experiment with your own parameters here to really try to drive it to 99.9% accuracy or better\n",
        "validation_datagen = ImageDataGenerator(rescale=1./255,\n",
        "      rotation_range=40,\n",
        "      width_shift_range=0.2,\n",
        "      height_shift_range=0.2,\n",
        "      shear_range=0.2,\n",
        "      zoom_range=0.2,\n",
        "      horizontal_flip=True,\n",
        "      fill_mode='nearest')\n",
        "validation_generator = validation_datagen.flow_from_directory(VALIDATION_DIR,\n",
        "                                                              batch_size=100,\n",
        "                                                              class_mode='binary',\n",
        "                                                              target_size=(150, 150))"
      ],
      "execution_count": 0,
      "outputs": [
        {
          "output_type": "stream",
          "text": [
            "Found 5730 images belonging to 2 classes.\n",
            "Found 2000 images belonging to 2 classes.\n"
          ],
          "name": "stdout"
        }
      ]
    },
    {
      "cell_type": "code",
      "metadata": {
        "id": "iy4XrWC4QcQa",
        "colab_type": "code",
        "outputId": "74fee98a-5555-4627-a54f-75bbe58437de",
        "colab": {
          "base_uri": "https://localhost:8080/",
          "height": 527
        }
      },
      "source": [
        "# Note that this may take some time.\n",
        "history = model.fit_generator(train_generator,\n",
        "                              epochs=10,\n",
        "                              verbose=1,\n",
        "                              validation_data=validation_generator,\n",
        "                              callbacks=[callbacks])"
      ],
      "execution_count": 0,
      "outputs": [
        {
          "output_type": "stream",
          "text": [
            "Epoch 1/10\n",
            "57/58 [============================>.] - ETA: 0s - loss: 0.8477 - acc: 0.6266Epoch 1/10\n",
            "58/58 [==============================] - 86s 1s/step - loss: 0.8447 - acc: 0.6267 - val_loss: 0.6179 - val_acc: 0.7500\n",
            "Epoch 2/10\n",
            "57/58 [============================>.] - ETA: 0s - loss: 0.6630 - acc: 0.6403Epoch 1/10\n",
            "58/58 [==============================] - 75s 1s/step - loss: 0.6630 - acc: 0.6400 - val_loss: 0.6087 - val_acc: 0.7500\n",
            "Epoch 3/10\n",
            "57/58 [============================>.] - ETA: 0s - loss: 0.6552 - acc: 0.6421Epoch 1/10\n",
            "58/58 [==============================] - 77s 1s/step - loss: 0.6554 - acc: 0.6415 - val_loss: 0.5859 - val_acc: 0.7500\n",
            "Epoch 4/10\n",
            "57/58 [============================>.] - ETA: 0s - loss: 0.6422 - acc: 0.6405Epoch 1/10\n",
            "58/58 [==============================] - 78s 1s/step - loss: 0.6426 - acc: 0.6401 - val_loss: 0.5530 - val_acc: 0.7605\n",
            "Epoch 5/10\n",
            "57/58 [============================>.] - ETA: 0s - loss: 0.6393 - acc: 0.6428Epoch 1/10\n",
            "58/58 [==============================] - 76s 1s/step - loss: 0.6396 - acc: 0.6419 - val_loss: 0.5376 - val_acc: 0.7590\n",
            "Epoch 6/10\n",
            "57/58 [============================>.] - ETA: 0s - loss: 0.6339 - acc: 0.6480Epoch 1/10\n",
            "58/58 [==============================] - 73s 1s/step - loss: 0.6331 - acc: 0.6487 - val_loss: 0.5185 - val_acc: 0.7610\n",
            "Epoch 7/10\n",
            "57/58 [============================>.] - ETA: 0s - loss: 0.6336 - acc: 0.6519Epoch 1/10\n",
            "58/58 [==============================] - 70s 1s/step - loss: 0.6332 - acc: 0.6518 - val_loss: 0.5196 - val_acc: 0.7600\n",
            "Epoch 8/10\n",
            "57/58 [============================>.] - ETA: 0s - loss: 0.6290 - acc: 0.6520Epoch 1/10\n",
            "58/58 [==============================] - 71s 1s/step - loss: 0.6291 - acc: 0.6518 - val_loss: 0.5415 - val_acc: 0.7655\n",
            "Epoch 9/10\n",
            "57/58 [============================>.] - ETA: 0s - loss: 0.6310 - acc: 0.6481Epoch 1/10\n",
            "58/58 [==============================] - 72s 1s/step - loss: 0.6305 - acc: 0.6485 - val_loss: 0.5016 - val_acc: 0.7595\n",
            "Epoch 10/10\n",
            "57/58 [============================>.] - ETA: 0s - loss: 0.6265 - acc: 0.6590Epoch 1/10\n",
            "58/58 [==============================] - 74s 1s/step - loss: 0.6260 - acc: 0.6595 - val_loss: 0.5178 - val_acc: 0.7645\n"
          ],
          "name": "stdout"
        }
      ]
    },
    {
      "cell_type": "markdown",
      "metadata": {
        "id": "qa8K0Y0PZSus",
        "colab_type": "text"
      },
      "source": [
        "just visualizing our data this step can be skipped if you dont need it"
      ]
    },
    {
      "cell_type": "code",
      "metadata": {
        "id": "pqXhB9usQeeS",
        "colab_type": "code",
        "outputId": "eb3919be-5555-4e6e-931a-692579b3a65c",
        "colab": {
          "base_uri": "https://localhost:8080/",
          "height": 563
        }
      },
      "source": [
        "%matplotlib inline\n",
        "\n",
        "import matplotlib.image  as mpimg\n",
        "import matplotlib.pyplot as plt\n",
        "\n",
        "#-----------------------------------------------------------\n",
        "# Retrieve a list of list results on training and test data\n",
        "# sets for each training epoch\n",
        "#-----------------------------------------------------------\n",
        "acc=history.history['acc']\n",
        "val_acc=history.history['val_acc']\n",
        "loss=history.history['loss']\n",
        "val_loss=history.history['val_loss']\n",
        "\n",
        "epochs=range(len(acc)) # Get number of epochs\n",
        "\n",
        "#------------------------------------------------\n",
        "# Plot training and validation accuracy per epoch\n",
        "#------------------------------------------------\n",
        "plt.plot(epochs, acc, 'r', \"Training Accuracy\")\n",
        "plt.plot(epochs, val_acc, 'b', \"Validation Accuracy\")\n",
        "plt.title('Training and validation accuracy')\n",
        "plt.figure()\n",
        "\n",
        "#------------------------------------------------\n",
        "# Plot training and validation loss per epoch\n",
        "#------------------------------------------------\n",
        "plt.plot(epochs, loss, 'r', \"Training Loss\")\n",
        "plt.plot(epochs, val_loss, 'b', \"Validation Loss\")\n",
        "plt.figure()\n",
        "\n",
        "\n",
        "# Desired output. Charts with training and validation metrics. No crash :)"
      ],
      "execution_count": 0,
      "outputs": [
        {
          "output_type": "execute_result",
          "data": {
            "text/plain": [
              "<Figure size 432x288 with 0 Axes>"
            ]
          },
          "metadata": {
            "tags": []
          },
          "execution_count": 24
        },
        {
          "output_type": "display_data",
          "data": {
            "image/png": "[encoded data removed]",
            "text/plain": [
              "<Figure size 432x288 with 1 Axes>"
            ]
          },
          "metadata": {
            "tags": []
          }
        },
        {
          "output_type": "display_data",
          "data": {
            "image/png": "[encoded data removed]",
            "text/plain": [
              "<Figure size 432x288 with 1 Axes>"
            ]
          },
          "metadata": {
            "tags": []
          }
        },
        {
          "output_type": "display_data",
          "data": {
            "text/plain": [
              "<Figure size 432x288 with 0 Axes>"
            ]
          },
          "metadata": {
            "tags": []
          }
        }
      ]
    }
  ]
}